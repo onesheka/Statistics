{
 "cells": [
  {
   "cell_type": "markdown",
   "metadata": {},
   "source": [
    "# USING STATISTICS WITH DATASET\n",
    "FiveThirtyEight posted this dataset regarding movie reviews by different sites. Dataquest also had this as their guided project\n",
    "but the course is paid."
   ]
  },
  {
   "cell_type": "code",
   "execution_count": 24,
   "metadata": {},
   "outputs": [
    {
     "name": "stdout",
     "output_type": "stream",
     "text": [
      "Index(['FILM', 'RottenTomatoes', 'RottenTomatoes_User', 'Metacritic',\n",
      "       'Metacritic_User', 'IMDB', 'Fandango_Stars', 'Fandango_Ratingvalue',\n",
      "       'RT_norm', 'RT_user_norm', 'Metacritic_norm', 'Metacritic_user_nom',\n",
      "       'IMDB_norm', 'RT_norm_round', 'RT_user_norm_round',\n",
      "       'Metacritic_norm_round', 'Metacritic_user_norm_round',\n",
      "       'IMDB_norm_round', 'Metacritic_user_vote_count', 'IMDB_user_vote_count',\n",
      "       'Fandango_votes', 'Fandango_Difference'],\n",
      "      dtype='object')\n",
      "------------------------------------------------------------------------------------------------------------\n",
      "                             FILM  RottenTomatoes  RottenTomatoes_User  \\\n",
      "0  Avengers: Age of Ultron (2015)              74                   86   \n",
      "1               Cinderella (2015)              85                   80   \n",
      "2                  Ant-Man (2015)              80                   90   \n",
      "3          Do You Believe? (2015)              18                   84   \n",
      "4   Hot Tub Time Machine 2 (2015)              14                   28   \n",
      "\n",
      "   Metacritic  Metacritic_User  IMDB  Fandango_Stars  Fandango_Ratingvalue  \\\n",
      "0          66              7.1   7.8             5.0                   4.5   \n",
      "1          67              7.5   7.1             5.0                   4.5   \n",
      "2          64              8.1   7.8             5.0                   4.5   \n",
      "3          22              4.7   5.4             5.0                   4.5   \n",
      "4          29              3.4   5.1             3.5                   3.0   \n",
      "\n",
      "   RT_norm  RT_user_norm         ...           IMDB_norm  RT_norm_round  \\\n",
      "0     3.70           4.3         ...                3.90            3.5   \n",
      "1     4.25           4.0         ...                3.55            4.5   \n",
      "2     4.00           4.5         ...                3.90            4.0   \n",
      "3     0.90           4.2         ...                2.70            1.0   \n",
      "4     0.70           1.4         ...                2.55            0.5   \n",
      "\n",
      "   RT_user_norm_round  Metacritic_norm_round  Metacritic_user_norm_round  \\\n",
      "0                 4.5                    3.5                         3.5   \n",
      "1                 4.0                    3.5                         4.0   \n",
      "2                 4.5                    3.0                         4.0   \n",
      "3                 4.0                    1.0                         2.5   \n",
      "4                 1.5                    1.5                         1.5   \n",
      "\n",
      "   IMDB_norm_round  Metacritic_user_vote_count  IMDB_user_vote_count  \\\n",
      "0              4.0                        1330                271107   \n",
      "1              3.5                         249                 65709   \n",
      "2              4.0                         627                103660   \n",
      "3              2.5                          31                  3136   \n",
      "4              2.5                          88                 19560   \n",
      "\n",
      "   Fandango_votes  Fandango_Difference  \n",
      "0           14846                  0.5  \n",
      "1           12640                  0.5  \n",
      "2           12055                  0.5  \n",
      "3            1793                  0.5  \n",
      "4            1021                  0.5  \n",
      "\n",
      "[5 rows x 22 columns]\n"
     ]
    }
   ],
   "source": [
    "import pandas as pd\n",
    "movie_reviews = pd.read_csv(\"fandango_scores.csv\")\n",
    "print(movie_reviews.columns)\n",
    "print(\"------------------------------------------------------------------------------------------------------------\")\n",
    "print(movie_reviews.head())"
   ]
  },
  {
   "cell_type": "code",
   "execution_count": 14,
   "metadata": {},
   "outputs": [
    {
     "data": {
      "image/png": "[encoded data removed]",
      "text/plain": [
       "<Figure size 360x864 with 4 Axes>"
      ]
     },
     "metadata": {},
     "output_type": "display_data"
    }
   ],
   "source": [
    "\n",
    "import matplotlib.pyplot as plt\n",
    "\n",
    "\n",
    "fig = plt.figure(figsize=(5,12))\n",
    "ax1 = fig.add_subplot(4,1,1)\n",
    "ax2 = fig.add_subplot(4,1,2)\n",
    "ax3 = fig.add_subplot(4,1,3)\n",
    "ax4 = fig.add_subplot(4,1,4)\n",
    "\n",
    "ax1.set_xlim(0,5)\n",
    "ax2.set_xlim(0,5)\n",
    "ax3.set_xlim(0,5)\n",
    "ax4.set_xlim(0,5)\n",
    "\n",
    "movie_reviews['RT_user_norm'].hist(ax=ax1)\n",
    "movie_reviews['Metacritic_user_nom'].hist(ax=ax2)\n",
    "movie_reviews['Fandango_Ratingvalue'].hist(ax=ax3)\n",
    "movie_reviews['IMDB_norm'].hist(ax=ax4)\n",
    "\n",
    "plt.show()\n"
   ]
  },
  {
   "cell_type": "markdown",
   "metadata": {},
   "source": [
    "Clearly, the Fandango ratings by the critics are comparitively way more than other movie review sites. <br>\n",
    "One of the reasons can be that Fandango also sells the movie tickets. While other sites just gives the reviews, so they have more of the Normalized views. Therefore to \n",
    "sell more amount of tickets, Fandango gives compartively better reviews."
   ]
  },
  {
   "cell_type": "markdown",
   "metadata": {},
   "source": [
    "Let's find the average ratings of the users per site."
   ]
  },
  {
   "cell_type": "code",
   "execution_count": 2,
   "metadata": {},
   "outputs": [
    {
     "name": "stdout",
     "output_type": "stream",
     "text": [
      "Rotten Tomatoes Average Reviews:  3.1938356164383572\n",
      "Metacritic Users Average Reviews:  3.2595890410958885\n",
      "Fandango Users Average Reviews:  3.8452054794520483\n",
      "IMBD Users Average Reviews:  3.3684931506849316\n"
     ]
    }
   ],
   "source": [
    "import numpy as np\n",
    "print(\"Rotten Tomatoes Average Reviews: \",np.mean(movie_reviews[\"RT_user_norm\"]))\n",
    "print(\"Metacritic Users Average Reviews: \",np.mean(movie_reviews[\"Metacritic_user_nom\"]))\n",
    "print(\"Fandango Users Average Reviews: \",np.mean(movie_reviews[\"Fandango_Ratingvalue\"]))\n",
    "print(\"IMBD Users Average Reviews: \",np.mean(movie_reviews['IMDB_norm']))"
   ]
  },
  {
   "cell_type": "markdown",
   "metadata": {},
   "source": [
    "Calculating the variance and standard deviation of the user reviews for measuring the spread"
   ]
  },
  {
   "cell_type": "code",
   "execution_count": 3,
   "metadata": {
    "scrolled": true
   },
   "outputs": [
    {
     "name": "stdout",
     "output_type": "stream",
     "text": [
      "Variance Rotten Tomatoes:  0.995578438731469\n",
      "Standard Deviation:  0.9977867701726001 \n",
      "\n",
      "Variance Metacritic:  0.5666546256333268\n",
      "Standard Deviation:  0.7527646548778222 \n",
      "\n",
      "Variance Fandango:  0.25110714955901703\n",
      "Standard Deviation:  0.5011059264856255 \n",
      "\n",
      "Variance IMDb:  0.228219647213361\n",
      "Standard Deviation:  0.4777234003200607\n"
     ]
    }
   ],
   "source": [
    "def cal_variance(l):\n",
    "    l_mean = np.mean(l)\n",
    "    var =0\n",
    "    for val in l:\n",
    "        diff = (val-l_mean)\n",
    "        diff_sq = diff**2\n",
    "        var += diff_sq\n",
    "    variance = var/len(l)\n",
    "    return (variance)\n",
    "print(\"Variance Rotten Tomatoes: \",cal_variance(movie_reviews['RT_user_norm']))\n",
    "print(\"Standard Deviation: \",np.std(movie_reviews['RT_user_norm']),\"\\n\")\n",
    "print(\"Variance Metacritic: \",cal_variance(movie_reviews['Metacritic_user_nom']))\n",
    "print(\"Standard Deviation: \",np.std(movie_reviews['Metacritic_user_nom']),\"\\n\")\n",
    "print(\"Variance Fandango: \",cal_variance(movie_reviews['Fandango_Ratingvalue']))\n",
    "print(\"Standard Deviation: \",np.std(movie_reviews['Fandango_Ratingvalue']),\"\\n\")\n",
    "print(\"Variance IMDb: \",cal_variance(movie_reviews['IMDB_norm']))\n",
    "print(\"Standard Deviation: \",np.std(movie_reviews['IMDB_norm']))\n"
   ]
  },
  {
   "cell_type": "markdown",
   "metadata": {},
   "source": [
    "Clearly, Rotten Tomatoes and Metacritic have a higher spread. Though IMDb's spread is not that much, but it's average reviews\n",
    "came out to be around 3.4 which is fair enough. No doubt why FiveThirtyEight posted this thing. <br>\n",
    "Now, let's check the relation as to how are high rated movie reviews are related to each site visually."
   ]
  },
  {
   "cell_type": "code",
   "execution_count": 13,
   "metadata": {},
   "outputs": [
    {
     "data": {
      "image/png": "[encoded data removed]",
      "text/plain": [
       "<Figure size 288x576 with 3 Axes>"
      ]
     },
     "metadata": {},
     "output_type": "display_data"
    }
   ],
   "source": [
    "\"RT_user_norm\"\n",
    "\"Metacritic_user_nom\"\n",
    "\"Fandango_Ratingvalue\"\n",
    "'IMDB_norm'\n",
    "\n",
    "\n",
    "fig = plt.figure(figsize=(4,8))\n",
    "ax1 = fig.add_subplot(3,1,1)\n",
    "ax2 = fig.add_subplot(3,1,2)\n",
    "ax3 = fig.add_subplot(3,1,3)\n",
    "\n",
    "ax1.set_xlim(0,5)\n",
    "ax2.set_xlim(0,5)\n",
    "ax3.set_xlim(0,5)\n",
    "\n",
    "ax1.scatter(movie_reviews['RT_user_norm'],movie_reviews['Fandango_Ratingvalue'])\n",
    "ax2.scatter(movie_reviews['Metacritic_user_nom'],movie_reviews['Fandango_Ratingvalue'])\n",
    "ax3.scatter(movie_reviews['IMDB_norm'],movie_reviews['Fandango_Ratingvalue'])\n",
    "\n",
    "plt.show()\n"
   ]
  },
  {
   "cell_type": "markdown",
   "metadata": {},
   "source": [
    "Let's calculate the covariance of the sites with the Fandango site and check the status"
   ]
  },
  {
   "cell_type": "code",
   "execution_count": 5,
   "metadata": {},
   "outputs": [
    {
     "name": "stdout",
     "output_type": "stream",
     "text": [
      "0.3621622255582659\n",
      "0.1271007693751173\n",
      "0.1437188027772567\n"
     ]
    }
   ],
   "source": [
    "\"RT_user_norm\"\n",
    "\"Metacritic_user_nom\"\n",
    "\"Fandango_Ratingvalue\"\n",
    "'IMDB_norm'\n",
    "\n",
    "def calc_covariance(l1,l2):\n",
    "    l1_mean = np.mean(l1)\n",
    "    l2_mean = np.mean(l2)\n",
    "    pro=[]\n",
    "    for i in range(0,len(l1)):\n",
    "        diff1 = l1[i] - l1_mean\n",
    "        diff2 = l2[i] - l2_mean\n",
    "        pro.append(diff1*diff2)\n",
    "    covar = sum(pro)/len(pro)\n",
    "    return (covar)\n",
    "\n",
    "covariance1 = calc_covariance(movie_reviews['RT_user_norm'],movie_reviews['Fandango_Ratingvalue'])\n",
    "covariance2 = calc_covariance(movie_reviews['Metacritic_user_nom'],movie_reviews['Fandango_Ratingvalue'])\n",
    "covariance3 = calc_covariance(movie_reviews['IMDB_norm'],movie_reviews['Fandango_Ratingvalue'])\n",
    "\n",
    "print(covariance1)\n",
    "print(covariance2)\n",
    "print(covariance3)\n"
   ]
  },
  {
   "cell_type": "code",
   "execution_count": 12,
   "metadata": {},
   "outputs": [
    {
     "name": "stdout",
     "output_type": "stream",
     "text": [
      "Correlation between Rotten Tomatoes and Fandango: 0.7243289942493139\n",
      "Correlation between Metacritic and Fandango: 0.3369453142649484\n",
      "Correlation between IMDB and Fandango: 0.6003541772626365\n"
     ]
    }
   ],
   "source": [
    "def cal_correlation(l1,l2,cova):\n",
    "    dv1 = np.std(l1)\n",
    "    dv2 = np.std(l2)\n",
    "    pro = dv1*dv2\n",
    "    correlation = cova/pro\n",
    "    return (correlation)\n",
    "\n",
    "correlation1 = cal_correlation(movie_reviews['RT_user_norm'],movie_reviews['Fandango_Ratingvalue'],covariance1)\n",
    "correlation2 = cal_correlation(movie_reviews['Metacritic_user_nom'],movie_reviews['Fandango_Ratingvalue'],covariance2)\n",
    "correlation3 = cal_correlation(movie_reviews['IMDB_norm'],movie_reviews['Fandango_Ratingvalue'],covariance3)\n",
    "\n",
    "print(\"Correlation between Rotten Tomatoes and Fandango:\",correlation1)\n",
    "print(\"Correlation between Metacritic and Fandango:\",correlation2)\n",
    "print(\"Correlation between IMDB and Fandango:\",correlation3)\n",
    "    "
   ]
  },
  {
   "cell_type": "markdown",
   "metadata": {},
   "source": [
    "Hence, it's clear that Rotten Tomatoes and Fandango are most closely related. And there is very less correlation between \n",
    "Metacritic and Fandango sites."
   ]
  }
 ],
 "metadata": {
  "kernelspec": {
   "display_name": "Python 3",
   "language": "python",
   "name": "python3"
  },
  "language_info": {
   "codemirror_mode": {
    "name": "ipython",
    "version": 3
   },
   "file_extension": ".py",
   "mimetype": "text/x-python",
   "name": "python",
   "nbconvert_exporter": "python",
   "pygments_lexer": "ipython3",
   "version": "3.6.5"
  }
 },
 "nbformat": 4,
 "nbformat_minor": 2
}
