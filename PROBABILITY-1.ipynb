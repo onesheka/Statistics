{
 "cells": [
  {
   "cell_type": "markdown",
   "metadata": {},
   "source": [
    "# <center>PROBABILITY</center>"
   ]
  },
  {
   "cell_type": "code",
   "execution_count": 2,
   "metadata": {},
   "outputs": [],
   "source": [
    "import pandas as pd\n",
    "flags = pd.read_excel('flags.xlsx')\n"
   ]
  },
  {
   "cell_type": "code",
   "execution_count": 5,
   "metadata": {},
   "outputs": [
    {
     "data": {
      "text/html": [
       "<div>\n",
       "<style scoped>\n",
       "    .dataframe tbody tr th:only-of-type {\n",
       "        vertical-align: middle;\n",
       "    }\n",
       "\n",
       "    .dataframe tbody tr th {\n",
       "        vertical-align: top;\n",
       "    }\n",
       "\n",
       "    .dataframe thead th {\n",
       "        text-align: right;\n",
       "    }\n",
       "</style>\n",
       "<table border=\"1\" class=\"dataframe\">\n",
       "  <thead>\n",
       "    <tr style=\"text-align: right;\">\n",
       "      <th></th>\n",
       "      <th>Name</th>\n",
       "      <th>Landmass</th>\n",
       "      <th>Zone</th>\n",
       "      <th>Area</th>\n",
       "      <th>Population</th>\n",
       "      <th>Language</th>\n",
       "      <th>Religion</th>\n",
       "      <th>Bars</th>\n",
       "      <th>Stripes</th>\n",
       "      <th>Colors</th>\n",
       "      <th>...</th>\n",
       "      <th>Saltires</th>\n",
       "      <th>Quarters</th>\n",
       "      <th>Sunstars</th>\n",
       "      <th>Crescent</th>\n",
       "      <th>Triangle</th>\n",
       "      <th>Icon</th>\n",
       "      <th>Animate</th>\n",
       "      <th>Text</th>\n",
       "      <th>Topleft</th>\n",
       "      <th>Botright</th>\n",
       "    </tr>\n",
       "  </thead>\n",
       "  <tbody>\n",
       "    <tr>\n",
       "      <th>0</th>\n",
       "      <td>Afghanistan</td>\n",
       "      <td>5</td>\n",
       "      <td>1</td>\n",
       "      <td>648</td>\n",
       "      <td>16</td>\n",
       "      <td>10</td>\n",
       "      <td>2</td>\n",
       "      <td>0</td>\n",
       "      <td>3</td>\n",
       "      <td>5</td>\n",
       "      <td>...</td>\n",
       "      <td>0</td>\n",
       "      <td>0</td>\n",
       "      <td>1</td>\n",
       "      <td>0</td>\n",
       "      <td>0</td>\n",
       "      <td>1</td>\n",
       "      <td>0</td>\n",
       "      <td>0</td>\n",
       "      <td>black</td>\n",
       "      <td>green</td>\n",
       "    </tr>\n",
       "    <tr>\n",
       "      <th>1</th>\n",
       "      <td>Albania</td>\n",
       "      <td>3</td>\n",
       "      <td>1</td>\n",
       "      <td>29</td>\n",
       "      <td>3</td>\n",
       "      <td>6</td>\n",
       "      <td>6</td>\n",
       "      <td>0</td>\n",
       "      <td>0</td>\n",
       "      <td>3</td>\n",
       "      <td>...</td>\n",
       "      <td>0</td>\n",
       "      <td>0</td>\n",
       "      <td>1</td>\n",
       "      <td>0</td>\n",
       "      <td>0</td>\n",
       "      <td>0</td>\n",
       "      <td>1</td>\n",
       "      <td>0</td>\n",
       "      <td>red</td>\n",
       "      <td>red</td>\n",
       "    </tr>\n",
       "    <tr>\n",
       "      <th>2</th>\n",
       "      <td>Algeria</td>\n",
       "      <td>4</td>\n",
       "      <td>1</td>\n",
       "      <td>2388</td>\n",
       "      <td>20</td>\n",
       "      <td>8</td>\n",
       "      <td>2</td>\n",
       "      <td>2</td>\n",
       "      <td>0</td>\n",
       "      <td>3</td>\n",
       "      <td>...</td>\n",
       "      <td>0</td>\n",
       "      <td>0</td>\n",
       "      <td>1</td>\n",
       "      <td>1</td>\n",
       "      <td>0</td>\n",
       "      <td>0</td>\n",
       "      <td>0</td>\n",
       "      <td>0</td>\n",
       "      <td>green</td>\n",
       "      <td>white</td>\n",
       "    </tr>\n",
       "    <tr>\n",
       "      <th>3</th>\n",
       "      <td>American-Samoa</td>\n",
       "      <td>6</td>\n",
       "      <td>3</td>\n",
       "      <td>0</td>\n",
       "      <td>0</td>\n",
       "      <td>1</td>\n",
       "      <td>1</td>\n",
       "      <td>0</td>\n",
       "      <td>0</td>\n",
       "      <td>5</td>\n",
       "      <td>...</td>\n",
       "      <td>0</td>\n",
       "      <td>0</td>\n",
       "      <td>0</td>\n",
       "      <td>0</td>\n",
       "      <td>1</td>\n",
       "      <td>1</td>\n",
       "      <td>1</td>\n",
       "      <td>0</td>\n",
       "      <td>blue</td>\n",
       "      <td>red</td>\n",
       "    </tr>\n",
       "    <tr>\n",
       "      <th>4</th>\n",
       "      <td>Andorra</td>\n",
       "      <td>3</td>\n",
       "      <td>1</td>\n",
       "      <td>0</td>\n",
       "      <td>0</td>\n",
       "      <td>6</td>\n",
       "      <td>0</td>\n",
       "      <td>3</td>\n",
       "      <td>0</td>\n",
       "      <td>3</td>\n",
       "      <td>...</td>\n",
       "      <td>0</td>\n",
       "      <td>0</td>\n",
       "      <td>0</td>\n",
       "      <td>0</td>\n",
       "      <td>0</td>\n",
       "      <td>0</td>\n",
       "      <td>0</td>\n",
       "      <td>0</td>\n",
       "      <td>blue</td>\n",
       "      <td>red</td>\n",
       "    </tr>\n",
       "  </tbody>\n",
       "</table>\n",
       "<p>5 rows × 30 columns</p>\n",
       "</div>"
      ],
      "text/plain": [
       "             Name  Landmass  Zone  Area  Population  Language  Religion  Bars  \\\n",
       "0     Afghanistan         5     1   648          16        10         2     0   \n",
       "1         Albania         3     1    29           3         6         6     0   \n",
       "2         Algeria         4     1  2388          20         8         2     2   \n",
       "3  American-Samoa         6     3     0           0         1         1     0   \n",
       "4         Andorra         3     1     0           0         6         0     3   \n",
       "\n",
       "   Stripes  Colors    ...     Saltires  Quarters  Sunstars  Crescent  \\\n",
       "0        3       5    ...            0         0         1         0   \n",
       "1        0       3    ...            0         0         1         0   \n",
       "2        0       3    ...            0         0         1         1   \n",
       "3        0       5    ...            0         0         0         0   \n",
       "4        0       3    ...            0         0         0         0   \n",
       "\n",
       "   Triangle  Icon  Animate Text  Topleft  Botright  \n",
       "0         0     1        0    0    black     green  \n",
       "1         0     0        1    0      red       red  \n",
       "2         0     0        0    0    green     white  \n",
       "3         1     1        1    0     blue       red  \n",
       "4         0     0        0    0     blue       red  \n",
       "\n",
       "[5 rows x 30 columns]"
      ]
     },
     "execution_count": 5,
     "metadata": {},
     "output_type": "execute_result"
    }
   ],
   "source": [
    "flags.head(5)"
   ]
  },
  {
   "cell_type": "code",
   "execution_count": 19,
   "metadata": {},
   "outputs": [
    {
     "name": "stdout",
     "output_type": "stream",
     "text": [
      "Name    St-Vincent\n",
      "Bars             5\n",
      "Name: 161, dtype: object\n",
      "------------------------------\n",
      "Name          China\n",
      "Population     1008\n",
      "Name: 37, dtype: object\n"
     ]
    }
   ],
   "source": [
    "most_bars = flags[['Name','Bars']].sort_values('Bars',ascending=False).iloc[0]\n",
    "print(most_bars)\n",
    "print(\"------------------------------\")\n",
    "highest_population_1986 = flags[['Name','Population']].sort_values('Population',ascending=False).iloc[0]\n",
    "print(highest_population_1986)"
   ]
  },
  {
   "cell_type": "markdown",
   "metadata": {},
   "source": [
    "### Probability"
   ]
  },
  {
   "cell_type": "code",
   "execution_count": 29,
   "metadata": {},
   "outputs": [
    {
     "name": "stdout",
     "output_type": "stream",
     "text": [
      "Probablity of a flags having color orange in it is: 0.13402061855670103\n",
      "------------------------------------------------------------------------------\n",
      "Probabilty of flags having more than 1 stripe in it: 0.41237113402061853\n"
     ]
    }
   ],
   "source": [
    "orange_color_probability = len(flags[flags[\"Orange\"]==1])/len(flags)\n",
    "having_stripe_probability = len(flags[flags[\"Stripes\"]>1])/len(flags)\n",
    "print(\"Probablity of a flags having color orange in it is:\",orange_color_probability)\n",
    "print(\"------------------------------------------------------------------------------\")\n",
    "print(\"Probabilty of flags having more than 1 stripe in it:\",having_stripe_probability)\n"
   ]
  },
  {
   "cell_type": "markdown",
   "metadata": {},
   "source": [
    "### Conjunctive Probability"
   ]
  },
  {
   "cell_type": "code",
   "execution_count": 36,
   "metadata": {},
   "outputs": [
    {
     "name": "stdout",
     "output_type": "stream",
     "text": [
      "Probability of having 5 heads in a row when 5 coins are tossed simul. : 0.0009765625\n",
      "--------------------------------------------------------------------------------\n",
      "Probabilty of having 100 heads in a row when 100 coins are tossed simul. : 7.888609052210118e-31\n"
     ]
    }
   ],
   "source": [
    "ten_heads = 0.5**10\n",
    "hundred_heads = 0.5**100\n",
    "print(\"Probability of having 5 heads in a row when 5 coins are tossed simul. :\",ten_heads)\n",
    "print(\"--------------------------------------------------------------------------------\")\n",
    "print(\"Probabilty of having 100 heads in a row when 100 coins are tossed simul. :\",hundred_heads)\n"
   ]
  },
  {
   "cell_type": "markdown",
   "metadata": {},
   "source": [
    "### Dependent Probabilities"
   ]
  },
  {
   "cell_type": "code",
   "execution_count": 46,
   "metadata": {},
   "outputs": [
    {
     "name": "stdout",
     "output_type": "stream",
     "text": [
      "The probablity of choosing 3 red flags from all the flags is: 0.4884855242775493\n"
     ]
    }
   ],
   "source": [
    "tot_flags = len(flags)\n",
    "red_flags = len(flags[flags['Red']==1])\n",
    "#print(tot_flags)\n",
    "#print(red_flags)\n",
    "prob_red_flags = (red_flags/tot_flags) * ((red_flags-1)/(tot_flags-1)) * ((red_flags-2)/(tot_flags-2))\n",
    "print(\"The probablity of choosing 3 red flags from all the flags is:\",prob_red_flags)"
   ]
  },
  {
   "cell_type": "markdown",
   "metadata": {},
   "source": [
    "### Disjunctive Probabilities"
   ]
  },
  {
   "cell_type": "code",
   "execution_count": 50,
   "metadata": {},
   "outputs": [
    {
     "name": "stdout",
     "output_type": "stream",
     "text": [
      "Probabilty that it is evenly divisible by 100: 0.01\n"
     ]
    }
   ],
   "source": [
    "start = 1 \n",
    "end = 1800\n",
    "\n",
    "def is_div_by_100(n):\n",
    "    if(n%100==0):\n",
    "        return 1\n",
    "    return 0\n",
    "\n",
    "val=0\n",
    "for i in range(1,1801):\n",
    "    val = val + is_div_by_100(i)\n",
    "\n",
    "prob_of_div_by_100 = val/1800\n",
    "print(\"Probabilty that it is evenly divisible by 100:\",prob_of_div_by_100)"
   ]
  },
  {
   "cell_type": "markdown",
   "metadata": {},
   "source": [
    "### Disjunctive Dependent Probabilities"
   ]
  },
  {
   "cell_type": "code",
   "execution_count": 57,
   "metadata": {},
   "outputs": [
    {
     "name": "stdout",
     "output_type": "stream",
     "text": [
      "Probability of flags that are Red or Orange in color: 0.8247422680412371\n"
     ]
    }
   ],
   "source": [
    "red_flags = len(flags[flags[\"Red\"]==1])\n",
    "orange_flags = len(flags[flags[\"Orange\"]==1])\n",
    "red_and_orange_flags = len(flags[(flags[\"Red\"]==1) & flags[\"Orange\"]==1])\n",
    "prob = (red_flags/len(flags)) + (orange_flags/len(flags)) - (red_and_orange_flags/len(flags))\n",
    "print(\"Probability of flags that are Red or Orange in color:\",prob)"
   ]
  },
  {
   "cell_type": "markdown",
   "metadata": {},
   "source": [
    "### Disjunctive P with multiple conditions"
   ]
  },
  {
   "cell_type": "code",
   "execution_count": 62,
   "metadata": {},
   "outputs": [
    {
     "name": "stdout",
     "output_type": "stream",
     "text": [
      "Probability that atleast one coin is a head: 0.875\n"
     ]
    }
   ],
   "source": [
    "all_three_tails = (1/2 * 1/2 * 1/2)\n",
    "prob = 1 - all_three_tails\n",
    "print(\"Probability that atleast one coin is a head:\",prob)"
   ]
  },
  {
   "cell_type": "code",
   "execution_count": null,
   "metadata": {},
   "outputs": [],
   "source": []
  }
 ],
 "metadata": {
  "kernelspec": {
   "display_name": "Python 3",
   "language": "python",
   "name": "python3"
  },
  "language_info": {
   "codemirror_mode": {
    "name": "ipython",
    "version": 3
   },
   "file_extension": ".py",
   "mimetype": "text/x-python",
   "name": "python",
   "nbconvert_exporter": "python",
   "pygments_lexer": "ipython3",
   "version": "3.6.5"
  }
 },
 "nbformat": 4,
 "nbformat_minor": 2
}
