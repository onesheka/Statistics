{
 "cells": [
  {
   "cell_type": "markdown",
   "metadata": {},
   "source": [
    "# STATISTICS "
   ]
  },
  {
   "cell_type": "markdown",
   "metadata": {},
   "source": [
    "### 1. mean as the center value\n",
    "If we calculate the mean of the values in a list and then difference the mean from the values,when we add all the, it comes out\n",
    "to be zero. <br>"
   ]
  },
  {
   "cell_type": "code",
   "execution_count": 13,
   "metadata": {},
   "outputs": [
    {
     "name": "stdout",
     "output_type": "stream",
     "text": [
      "1.875\n",
      "[-7.875, -4.875, 1.125, -1.875, -2.875, 3.125, 5.125, 8.125, -7.875, -4.875, 1.125, -1.875, -2.875, 3.125, 5.125, 8.125, -7.875, -4.875, 1.125, -1.875, -2.875, 3.125, 5.125, 8.125]\n",
      "0.0\n"
     ]
    }
   ],
   "source": [
    "import numpy as np\n",
    "l = [-6,-3,3,0,-1,5,7,10]\n",
    "l_mean = np.mean(l)\n",
    "print(l_mean)\n",
    "for val in l:\n",
    "    l2.append(val-l_mean)\n",
    "print(l2)\n",
    "print(sum(l2)) ## hence proved"
   ]
  },
  {
   "cell_type": "markdown",
   "metadata": {},
   "source": [
    "### 2. VARIANCE\n",
    "How concentrated or spread out the data is"
   ]
  },
  {
   "cell_type": "code",
   "execution_count": 31,
   "metadata": {},
   "outputs": [
    {
     "name": "stdout",
     "output_type": "stream",
     "text": [
      "Variance: 37.78\n"
     ]
    }
   ],
   "source": [
    "import matplotlib.pyplot as plt\n",
    "l = [1,2,23,4,5,6,7,5,4]\n",
    "l_mean = np.mean(l)\n",
    "#print(l_mean)\n",
    "var=0\n",
    "for num in l:\n",
    "    diff = num - l_mean\n",
    "    sq_diff = diff**2\n",
    "    var = var +  sq_diff\n",
    "\n",
    "point_variance = var/len(l)\n",
    "print(\"Variance:\",round(point_variance,2))   \n",
    "\n"
   ]
  },
  {
   "cell_type": "markdown",
   "metadata": {},
   "source": [
    "### 3. STANDARD DEVIATION\n",
    "Square root of the variance"
   ]
  },
  {
   "cell_type": "code",
   "execution_count": 50,
   "metadata": {},
   "outputs": [
    {
     "name": "stdout",
     "output_type": "stream",
     "text": [
      "Standard Deviation: 6.146362971528593\n",
      "6.146362971528593\n"
     ]
    }
   ],
   "source": [
    "l= [1,2,23,4,5,6,7,5,4]\n",
    "l_mean = np.mean(l)\n",
    "var =0 \n",
    "for val in l:\n",
    "    diff = val-l_mean\n",
    "    sq_diff = diff**2\n",
    "    var += sq_diff\n",
    "\n",
    "variance = var/len(l)\n",
    "standard_deviation = variance**(1/2)\n",
    "print(\"Standard Deviation:\",standard_deviation)"
   ]
  },
  {
   "cell_type": "markdown",
   "metadata": {},
   "source": [
    "### 4. STANDARD DEVIATION DISTANCE"
   ]
  },
  {
   "cell_type": "code",
   "execution_count": 58,
   "metadata": {},
   "outputs": [
    {
     "data": {
      "image/png": "[encoded data removed]",
      "text/plain": [
       "<Figure size 432x288 with 1 Axes>"
      ]
     },
     "metadata": {},
     "output_type": "display_data"
    }
   ],
   "source": [
    "l = [1, 2, 2.2 ,2, 9, 3.2, 3, 9, 5, 4, 4.6, 5, 6, 7, 5, 4, 7.8]\n",
    "l_mean = np.mean(l)\n",
    "dev = np.std(l)\n",
    "plt.hist(l)\n",
    "plt.axvline(l_mean,color=\"r\")\n",
    "plt.axvline(l_mean-dev,color=\"yellow\") \n",
    "plt.axvline(l_mean+dev,color=\"yellow\")\n",
    "plt.show()"
   ]
  },
  {
   "cell_type": "code",
   "execution_count": 63,
   "metadata": {},
   "outputs": [
    {
     "name": "stdout",
     "output_type": "stream",
     "text": [
      "-0.6337495781577533\n"
     ]
    }
   ],
   "source": [
    "total_distance = l[5] - l_mean  ## finding the standard deviation distance of point 3.2(i.e. l[5]) from the mean\n",
    "standard_deviation_distance = total_distance/dev \n",
    "print(standard_deviation_distance)"
   ]
  },
  {
   "cell_type": "markdown",
   "metadata": {},
   "source": [
    "### 5. NORMAL DISTRIBUTION\n",
    "Bell Curve"
   ]
  },
  {
   "cell_type": "code",
   "execution_count": 71,
   "metadata": {},
   "outputs": [
    {
     "data": {
      "image/png": "[encoded data removed]",
      "text/plain": [
       "<Figure size 432x288 with 1 Axes>"
      ]
     },
     "metadata": {},
     "output_type": "display_data"
    }
   ],
   "source": [
    "from scipy.stats import norm\n",
    "points = np.arange(-10, 10, 0.1)\n",
    "probabilities = norm.pdf(points, 0, 2)\n",
    "plt.plot(points, probabilities)\n",
    "plt.show()"
   ]
  },
  {
   "cell_type": "markdown",
   "metadata": {},
   "source": [
    "### 6. NORMAL DISTRIBUTION DEVIATION\n",
    "About 68% of the data is within one standard deviation, roughly 95% is within two standard deviations, and about 99% is within three standard deviations"
   ]
  },
  {
   "cell_type": "code",
   "execution_count": 101,
   "metadata": {},
   "outputs": [
    {
     "name": "stdout",
     "output_type": "stream",
     "text": [
      "[-2.44, -2.18, -1.92, -1.92, -1.67, -1.67, -1.41, -1.41, -1.41, -1.41, -1.15, -1.15, -1.15, -1.15, -1.15, -1.15, -0.9, -0.9, -0.9, -0.9, -0.9, -0.9, -0.9, -0.64, -0.64, -0.64, -0.64, -0.64, -0.64, -0.64, -0.64, -0.38, -0.38, -0.38, -0.38, -0.38, -0.38, -0.38, -0.38, -0.38, -0.13, -0.13, -0.13, -0.13, -0.13, -0.13, -0.13, -0.13, -0.13, -0.13, 0.13, 0.13, 0.13, 0.13, 0.13, 0.13, 0.13, 0.13, 0.13, 0.13, 0.38, 0.38, 0.38, 0.38, 0.38, 0.38, 0.38, 0.38, 0.38, 0.64, 0.64, 0.64, 0.64, 0.64, 0.64, 0.64, 0.64, 0.9, 0.9, 0.9, 0.9, 0.9, 0.9, 0.9, 1.15, 1.15, 1.15, 1.15, 1.15, 1.15, 1.41, 1.41, 1.41, 1.41, 1.67, 1.67, 1.92, 1.92, 2.18, 2.44] \n",
      "\n",
      "Within One Percentage: \n",
      "[-0.9, -0.9, -0.9, -0.9, -0.9, -0.9, -0.9, -0.64, -0.64, -0.64, -0.64, -0.64, -0.64, -0.64, -0.64, -0.38, -0.38, -0.38, -0.38, -0.38, -0.38, -0.38, -0.38, -0.38, -0.13, -0.13, -0.13, -0.13, -0.13, -0.13, -0.13, -0.13, -0.13, -0.13, 0.13, 0.13, 0.13, 0.13, 0.13, 0.13, 0.13, 0.13, 0.13, 0.13, 0.38, 0.38, 0.38, 0.38, 0.38, 0.38, 0.38, 0.38, 0.38, 0.64, 0.64, 0.64, 0.64, 0.64, 0.64, 0.64, 0.64, 0.9, 0.9, 0.9, 0.9, 0.9, 0.9, 0.9] \n",
      "\n",
      "Within Two Percentage: \n",
      "[-1.92, -1.92, -1.67, -1.67, -1.41, -1.41, -1.41, -1.41, -1.15, -1.15, -1.15, -1.15, -1.15, -1.15, -0.9, -0.9, -0.9, -0.9, -0.9, -0.9, -0.9, -0.64, -0.64, -0.64, -0.64, -0.64, -0.64, -0.64, -0.64, -0.38, -0.38, -0.38, -0.38, -0.38, -0.38, -0.38, -0.38, -0.38, -0.13, -0.13, -0.13, -0.13, -0.13, -0.13, -0.13, -0.13, -0.13, -0.13, 0.13, 0.13, 0.13, 0.13, 0.13, 0.13, 0.13, 0.13, 0.13, 0.13, 0.38, 0.38, 0.38, 0.38, 0.38, 0.38, 0.38, 0.38, 0.38, 0.64, 0.64, 0.64, 0.64, 0.64, 0.64, 0.64, 0.64, 0.9, 0.9, 0.9, 0.9, 0.9, 0.9, 0.9, 1.15, 1.15, 1.15, 1.15, 1.15, 1.15, 1.41, 1.41, 1.41, 1.41, 1.67, 1.67, 1.92, 1.92] \n",
      "\n",
      "Within Three Percentage: \n",
      "[-2.44, -2.18, -1.92, -1.92, -1.67, -1.67, -1.41, -1.41, -1.41, -1.41, -1.15, -1.15, -1.15, -1.15, -1.15, -1.15, -0.9, -0.9, -0.9, -0.9, -0.9, -0.9, -0.9, -0.64, -0.64, -0.64, -0.64, -0.64, -0.64, -0.64, -0.64, -0.38, -0.38, -0.38, -0.38, -0.38, -0.38, -0.38, -0.38, -0.38, -0.13, -0.13, -0.13, -0.13, -0.13, -0.13, -0.13, -0.13, -0.13, -0.13, 0.13, 0.13, 0.13, 0.13, 0.13, 0.13, 0.13, 0.13, 0.13, 0.13, 0.38, 0.38, 0.38, 0.38, 0.38, 0.38, 0.38, 0.38, 0.38, 0.64, 0.64, 0.64, 0.64, 0.64, 0.64, 0.64, 0.64, 0.9, 0.9, 0.9, 0.9, 0.9, 0.9, 0.9, 1.15, 1.15, 1.15, 1.15, 1.15, 1.15, 1.41, 1.41, 1.41, 1.41, 1.67, 1.67, 1.92, 1.92, 2.18, 2.44] \n",
      "\n",
      "Percentage of within one deviation : 68.0\n",
      "Percentage of within two deviation : 96.0\n",
      "Percentage of within three deviation : 100.0\n"
     ]
    }
   ],
   "source": [
    "\n",
    "l = wing_lengths = [36, 37, 38, 38, 39, 39, 40, 40, 40, 40, 41, 41, 41, 41, 41, 41, 42, 42, 42, 42, 42, 42, 42, 43, 43, 43, 43, 43, 43, 43, 43, 44, 44, 44, 44, 44, 44, 44, 44, 44, 45, 45, 45, 45, 45, 45, 45, 45, 45, 45, 46, 46, 46, 46, 46, 46, 46, 46, 46, 46, 47, 47, 47, 47, 47, 47, 47, 47, 47, 48, 48, 48, 48, 48, 48, 48, 48, 49, 49, 49, 49, 49, 49, 49, 50, 50, 50, 50, 50, 50, 51, 51, 51, 51, 52, 52, 53, 53, 54, 55]\n",
    "l_mean = np.mean(l)\n",
    "dev = np.std(l)\n",
    "standard_deviation_distance_list = []\n",
    "total_distance_list = []\n",
    "\n",
    "for i in range(0,len(l)):\n",
    "    total_distance = (l[i]-l_mean)\n",
    "    standard_deviation_distance_list.append(round(total_distance/dev,2))\n",
    "    \n",
    "    \n",
    "print(standard_deviation_distance_list,\"\\n\")\n",
    "\n",
    "within_one_percentage = []\n",
    "within_two_percentage = []\n",
    "within_three_percentage = []\n",
    "for i in range(0,len(standard_deviation_distance_list)):\n",
    "    if(abs(standard_deviation_distance_list[i])<=1):\n",
    "        within_one_percentage.append(standard_deviation_distance_list[i])\n",
    "    if(abs(standard_deviation_distance_list[i])<=2):\n",
    "        within_two_percentage.append(standard_deviation_distance_list[i])\n",
    "    if(abs(standard_deviation_distance_list[i])<=3):\n",
    "        within_three_percentage.append(standard_deviation_distance_list[i])\n",
    "    \n",
    "print(\"Within One Percentage: \")\n",
    "print(within_one_percentage,\"\\n\")\n",
    "print(\"Within Two Percentage: \")\n",
    "print(within_two_percentage,\"\\n\")\n",
    "print(\"Within Three Percentage: \")\n",
    "print(within_three_percentage,\"\\n\")\n",
    "\n",
    "## Let's verify the percentages\n",
    "\n",
    "print(\"Percentage of within one deviation :\",(len(within_one_percentage)/len(l))*100)\n",
    "print(\"Percentage of within two deviation :\",(len(within_two_percentage)/len(l))*100)\n",
    "print(\"Percentage of within three deviation :\",(len(within_three_percentage)/len(l))*100)\n",
    "    "
   ]
  },
  {
   "cell_type": "markdown",
   "metadata": {},
   "source": [
    "### 7. SCATTERPLOTS FOR CORRELATIONS"
   ]
  },
  {
   "cell_type": "code",
   "execution_count": 110,
   "metadata": {},
   "outputs": [
    {
     "data": {
      "image/png": "[encoded data removed]",
      "text/plain": [
       "<Figure size 432x288 with 1 Axes>"
      ]
     },
     "metadata": {},
     "output_type": "display_data"
    },
    {
     "data": {
      "image/png": "[encoded data removed]",
      "text/plain": [
       "<Figure size 432x288 with 1 Axes>"
      ]
     },
     "metadata": {},
     "output_type": "display_data"
    },
    {
     "data": {
      "text/plain": [
       "[]"
      ]
     },
     "execution_count": 110,
     "metadata": {},
     "output_type": "execute_result"
    },
    {
     "data": {
      "image/png": "[encoded data removed]",
      "text/plain": [
       "<Figure size 432x288 with 1 Axes>"
      ]
     },
     "metadata": {},
     "output_type": "display_data"
    }
   ],
   "source": [
    "l1 = [1,2,3,4,5,6,7]\n",
    "l2 = [11,12,13,13,15,16,17]\n",
    "l3 = [7,6,5,4,3,2,1]\n",
    "l4 = [5,3,9,7,1,0,2]\n",
    "plt.scatter(l1,l2) ##positively correlated\n",
    "plt.show()\n",
    "\n",
    "plt.scatter(l1,l3) ##negatively correlated (strongly)\n",
    "plt.show()\n",
    "\n",
    "plt.scatter(l1,l4) ##not related strongly\n",
    "plt.plot()"
   ]
  },
  {
   "cell_type": "markdown",
   "metadata": {},
   "source": [
    "### 8. PEARSON's R\n",
    "Values from -1 to 1. Closer to 1 or -1, stronger the relation is."
   ]
  },
  {
   "cell_type": "code",
   "execution_count": 117,
   "metadata": {},
   "outputs": [
    {
     "name": "stdout",
     "output_type": "stream",
     "text": [
      "0.9850365626224086\n",
      "-1.0\n",
      "-0.5397217426335219\n"
     ]
    }
   ],
   "source": [
    "from scipy.stats.stats import pearsonr\n",
    "\n",
    "r,p_value = pearsonr(l1,l2)\n",
    "print(r) ## very strongly related (positively)\n",
    "\n",
    "r,p_value = pearsonr(l1,l3)  ##very strongly related (negatively)\n",
    "print(r)\n",
    " \n",
    "r,p_value = pearsonr(l1,l4) ##partially related \n",
    "print(r)"
   ]
  },
  {
   "cell_type": "markdown",
   "metadata": {},
   "source": [
    "### 9. COVARIANCE "
   ]
  },
  {
   "cell_type": "code",
   "execution_count": 10,
   "metadata": {},
   "outputs": [
    {
     "name": "stdout",
     "output_type": "stream",
     "text": [
      "3.857142857142857\n",
      "-4.0\n"
     ]
    }
   ],
   "source": [
    "import numpy as np\n",
    "l1 = [1,2,3,4,5,6,7]\n",
    "l2 = [1,2,3,4,4,6,7]\n",
    "l3 = [7,6,5,4,3,2,1]\n",
    "def covariance(x,y):\n",
    "    x_mean = np.mean(x)\n",
    "    y_mean = np.mean(y)\n",
    "    x_diffs =[]\n",
    "    y_diffs = []\n",
    "    for val in x:\n",
    "        x_diffs.append(val-x_mean)\n",
    "    for val in y:\n",
    "        y_diffs.append(val-y_mean)\n",
    "    codeviates = []\n",
    "    for i in range(0,len(x)):\n",
    "        codeviates.append(x_diffs[i]*y_diffs[i])\n",
    "    return sum(codeviates)/len(codeviates)\n",
    "\n",
    "cov1 = covariance(l1,l2)\n",
    "print(cov1)\n",
    "cov2 = covariance(l1,l3)\n",
    "print(cov2)"
   ]
  },
  {
   "cell_type": "markdown",
   "metadata": {},
   "source": [
    "### 10. CORRELATION WITH THE std() METHOD"
   ]
  },
  {
   "cell_type": "code",
   "execution_count": 17,
   "metadata": {},
   "outputs": [
    {
     "name": "stdout",
     "output_type": "stream",
     "text": [
      "[[1.19123076 1.14868681]\n",
      " [1.14868681 1.1426091 ]]\n"
     ]
    }
   ],
   "source": [
    "import numpy as np\n",
    "from numpy import cov\n",
    "cov1 = cov(l1,l2)/(np.std(l1)*np.std(l2))\n",
    "print(cov1) "
   ]
  }
 ],
 "metadata": {
  "kernelspec": {
   "display_name": "Python 3",
   "language": "python",
   "name": "python3"
  },
  "language_info": {
   "codemirror_mode": {
    "name": "ipython",
    "version": 3
   },
   "file_extension": ".py",
   "mimetype": "text/x-python",
   "name": "python",
   "nbconvert_exporter": "python",
   "pygments_lexer": "ipython3",
   "version": "3.6.5"
  }
 },
 "nbformat": 4,
 "nbformat_minor": 2
}
